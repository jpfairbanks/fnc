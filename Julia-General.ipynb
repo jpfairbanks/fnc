{
 "cells": [
  {
   "cell_type": "code",
   "execution_count": 2,
   "id": "ed036c02-a896-4614-8a9a-9507a6082a9c",
   "metadata": {},
   "outputs": [
    {
     "data": {
      "text/plain": [
       "Point(1.2, 2.3)"
      ]
     },
     "execution_count": 2,
     "metadata": {},
     "output_type": "execute_result"
    }
   ],
   "source": [
    "struct Point\n",
    "    x::Float64\n",
    "    y::Float64\n",
    "end\n",
    "\n",
    "p = Point(1.2, 2.3)"
   ]
  },
  {
   "cell_type": "code",
   "execution_count": 3,
   "id": "57084b12-8361-494b-bff5-8f9ab93c19e4",
   "metadata": {},
   "outputs": [
    {
     "data": {
      "text/plain": [
       "1.2"
      ]
     },
     "execution_count": 3,
     "metadata": {},
     "output_type": "execute_result"
    }
   ],
   "source": [
    "p.x"
   ]
  },
  {
   "cell_type": "code",
   "execution_count": 4,
   "id": "5943ce23-8a72-485e-af09-a4d621634588",
   "metadata": {},
   "outputs": [
    {
     "data": {
      "text/plain": [
       "2.3"
      ]
     },
     "execution_count": 4,
     "metadata": {},
     "output_type": "execute_result"
    }
   ],
   "source": [
    "p.y"
   ]
  },
  {
   "cell_type": "code",
   "execution_count": 5,
   "id": "9359e68f-7871-47a7-b0e0-ccca175dfe70",
   "metadata": {},
   "outputs": [
    {
     "data": {
      "text/plain": [
       "Point(1.2, 2.3)"
      ]
     },
     "execution_count": 5,
     "metadata": {},
     "output_type": "execute_result"
    }
   ],
   "source": [
    "p"
   ]
  },
  {
   "cell_type": "code",
   "execution_count": 6,
   "id": "381f877a-6809-43a3-b51b-8598ee52c259",
   "metadata": {},
   "outputs": [
    {
     "data": {
      "text/plain": [
       "Point(1.0, 2.0)"
      ]
     },
     "execution_count": 6,
     "metadata": {},
     "output_type": "execute_result"
    }
   ],
   "source": [
    "Point(1, 2)"
   ]
  },
  {
   "cell_type": "code",
   "execution_count": 7,
   "id": "e2a18f13-2d74-4b2f-8dee-e3741f95dbab",
   "metadata": {},
   "outputs": [
    {
     "name": "stdout",
     "output_type": "stream",
     "text": [
      "1\n",
      "2\n",
      "3\n",
      "4\n",
      "5\n",
      "6\n",
      "7\n",
      "8\n",
      "9\n",
      "10\n"
     ]
    }
   ],
   "source": [
    "for i in 1:10\n",
    "    println(i)\n",
    "end"
   ]
  },
  {
   "cell_type": "code",
   "execution_count": 9,
   "id": "76a3cd72-2baa-457a-89af-ed6514603d66",
   "metadata": {},
   "outputs": [
    {
     "data": {
      "text/plain": [
       "10-element Vector{Int64}:\n",
       "   1\n",
       "   4\n",
       "   9\n",
       "  16\n",
       "  25\n",
       "  36\n",
       "  49\n",
       "  64\n",
       "  81\n",
       " 100"
      ]
     },
     "execution_count": 9,
     "metadata": {},
     "output_type": "execute_result"
    }
   ],
   "source": [
    "ys = [y^2 for y in 1:10]"
   ]
  },
  {
   "cell_type": "code",
   "execution_count": 12,
   "id": "5a32254b-a2bd-4cee-80ab-3bc56e788980",
   "metadata": {},
   "outputs": [
    {
     "name": "stdout",
     "output_type": "stream",
     "text": [
      "(i, y) = (1, 1)\n",
      "(i, y) = (2, 4)\n",
      "(i, y) = (3, 9)\n",
      "(i, y) = (4, 16)\n",
      "(i, y) = (5, 25)\n",
      "(i, y) = (6, 36)\n",
      "(i, y) = (7, 49)\n",
      "(i, y) = (8, 64)\n",
      "(i, y) = (9, 81)\n",
      "(i, y) = (10, 100)\n"
     ]
    }
   ],
   "source": [
    "for (i,y) in enumerate(ys)\n",
    "    @show (i,y)\n",
    "end"
   ]
  },
  {
   "cell_type": "code",
   "execution_count": 13,
   "id": "1053e6ef-b070-4226-be90-a2c01af331a4",
   "metadata": {},
   "outputs": [
    {
     "data": {
      "text/plain": [
       "10-element Vector{Float64}:\n",
       "  1.0\n",
       "  2.0\n",
       "  3.0\n",
       "  4.0\n",
       "  5.0\n",
       "  6.0\n",
       "  7.0\n",
       "  8.0\n",
       "  9.0\n",
       " 10.0"
      ]
     },
     "execution_count": 13,
     "metadata": {},
     "output_type": "execute_result"
    }
   ],
   "source": [
    "map(ys) do y\n",
    "    return sqrt(y)\n",
    "end"
   ]
  },
  {
   "cell_type": "code",
   "execution_count": 14,
   "id": "1256a62f-edd7-4136-a053-3e99c7fc4777",
   "metadata": {},
   "outputs": [
    {
     "data": {
      "text/plain": [
       "3"
      ]
     },
     "execution_count": 14,
     "metadata": {},
     "output_type": "execute_result"
    }
   ],
   "source": [
    "floor(Int, 3.14)"
   ]
  },
  {
   "cell_type": "code",
   "execution_count": 15,
   "id": "097a00aa-76e8-48e5-ba1d-86183c15d11c",
   "metadata": {},
   "outputs": [
    {
     "data": {
      "text/plain": [
       "4"
      ]
     },
     "execution_count": 15,
     "metadata": {},
     "output_type": "execute_result"
    }
   ],
   "source": [
    "ceil(Int, 3.14)"
   ]
  },
  {
   "cell_type": "code",
   "execution_count": 16,
   "id": "09a7b908-8a34-4128-95b5-d09ef7924ebb",
   "metadata": {},
   "outputs": [
    {
     "data": {
      "text/plain": [
       "22.0"
      ]
     },
     "execution_count": 16,
     "metadata": {},
     "output_type": "execute_result"
    }
   ],
   "source": [
    "Float64(22)"
   ]
  },
  {
   "cell_type": "code",
   "execution_count": 17,
   "id": "253dda8c-a1a4-46f4-b90b-ba5287e9e1a5",
   "metadata": {},
   "outputs": [
    {
     "data": {
      "text/plain": [
       "3.142857142857143"
      ]
     },
     "execution_count": 17,
     "metadata": {},
     "output_type": "execute_result"
    }
   ],
   "source": [
    "22/7"
   ]
  },
  {
   "cell_type": "code",
   "execution_count": 18,
   "id": "4fca6864-b4ff-44f6-aa83-f586e800bfbd",
   "metadata": {},
   "outputs": [
    {
     "data": {
      "text/plain": [
       "22//7"
      ]
     },
     "execution_count": 18,
     "metadata": {},
     "output_type": "execute_result"
    }
   ],
   "source": [
    "22//7"
   ]
  },
  {
   "cell_type": "code",
   "execution_count": 19,
   "id": "537a436d-f097-4737-9dd6-a861d5d314a6",
   "metadata": {},
   "outputs": [
    {
     "data": {
      "text/plain": [
       "Rational{Int64}"
      ]
     },
     "execution_count": 19,
     "metadata": {},
     "output_type": "execute_result"
    }
   ],
   "source": [
    "typeof(22//7)"
   ]
  },
  {
   "cell_type": "code",
   "execution_count": 20,
   "id": "ccfc1b4c-375b-476d-ae28-e2a0f9303112",
   "metadata": {},
   "outputs": [
    {
     "name": "stdout",
     "output_type": "stream",
     "text": [
      "Rational{Int64}\n",
      "  num: Int64 22\n",
      "  den: Int64 7\n"
     ]
    }
   ],
   "source": [
    "dump(22//7)"
   ]
  },
  {
   "cell_type": "code",
   "execution_count": 21,
   "id": "ca4640db-f06d-4d39-b064-a254633c49d5",
   "metadata": {},
   "outputs": [
    {
     "data": {
      "text/plain": [
       "22"
      ]
     },
     "execution_count": 21,
     "metadata": {},
     "output_type": "execute_result"
    }
   ],
   "source": [
    "pi = 22//7\n",
    "pi.num"
   ]
  },
  {
   "cell_type": "code",
   "execution_count": 22,
   "id": "13f8763e-7e7f-44bc-9680-b8b5f24151b0",
   "metadata": {},
   "outputs": [
    {
     "data": {
      "text/plain": [
       "7"
      ]
     },
     "execution_count": 22,
     "metadata": {},
     "output_type": "execute_result"
    }
   ],
   "source": [
    "pi.den"
   ]
  },
  {
   "cell_type": "code",
   "execution_count": 23,
   "id": "d35ce88b-6d63-4013-9c24-40d908682cd5",
   "metadata": {},
   "outputs": [
    {
     "data": {
      "text/plain": [
       "11//16"
      ]
     },
     "execution_count": 23,
     "metadata": {},
     "output_type": "execute_result"
    }
   ],
   "source": [
    "22//7 * 7//32"
   ]
  },
  {
   "cell_type": "code",
   "execution_count": 24,
   "id": "8f67cfc2-ca41-401d-a81d-539120e16fb2",
   "metadata": {},
   "outputs": [
    {
     "data": {
      "text/plain": [
       "10-element Vector{Rational{Int64}}:\n",
       " 1//10\n",
       " 1//5\n",
       " 3//10\n",
       " 2//5\n",
       " 1//2\n",
       " 3//5\n",
       " 7//10\n",
       " 4//5\n",
       " 9//10\n",
       " 1//1"
      ]
     },
     "execution_count": 24,
     "metadata": {},
     "output_type": "execute_result"
    }
   ],
   "source": [
    "[i//10 for i in 1:10]"
   ]
  },
  {
   "cell_type": "code",
   "execution_count": 25,
   "id": "333ec417-05df-4af4-8f12-1a21dd283c04",
   "metadata": {},
   "outputs": [
    {
     "data": {
      "text/plain": [
       "10×10 Matrix{Rational{Int64}}:\n",
       " 0//1  0//1  0//1  0//1  0//1  0//1  0//1  0//1  0//1  0//1\n",
       " 0//1  0//1  0//1  0//1  0//1  0//1  0//1  0//1  0//1  0//1\n",
       " 0//1  0//1  0//1  0//1  0//1  0//1  0//1  0//1  0//1  0//1\n",
       " 0//1  0//1  0//1  0//1  0//1  0//1  0//1  0//1  0//1  0//1\n",
       " 0//1  0//1  0//1  0//1  0//1  0//1  0//1  0//1  0//1  0//1\n",
       " 0//1  0//1  0//1  0//1  0//1  0//1  0//1  0//1  0//1  0//1\n",
       " 0//1  0//1  0//1  0//1  0//1  0//1  0//1  0//1  0//1  0//1\n",
       " 0//1  0//1  0//1  0//1  0//1  0//1  0//1  0//1  0//1  0//1\n",
       " 0//1  0//1  0//1  0//1  0//1  0//1  0//1  0//1  0//1  0//1\n",
       " 0//1  0//1  0//1  0//1  0//1  0//1  0//1  0//1  0//1  0//1"
      ]
     },
     "execution_count": 25,
     "metadata": {},
     "output_type": "execute_result"
    }
   ],
   "source": [
    "zeros(Rational{Int64}, 10,10)"
   ]
  },
  {
   "cell_type": "code",
   "execution_count": 29,
   "id": "caaa17ab-3434-4829-b5f7-e3d2c5ef50f3",
   "metadata": {},
   "outputs": [
    {
     "data": {
      "text/plain": [
       "2×2 Matrix{Int64}:\n",
       " 1  1\n",
       " 1  0"
      ]
     },
     "execution_count": 29,
     "metadata": {},
     "output_type": "execute_result"
    }
   ],
   "source": [
    "A = [1 1; 1 0]"
   ]
  },
  {
   "cell_type": "code",
   "execution_count": 30,
   "id": "f0cd4e8d-b1a1-49b4-8b37-91eb59d2c409",
   "metadata": {},
   "outputs": [
    {
     "data": {
      "text/plain": [
       "10-element Vector{Matrix{Int64}}:\n",
       " [1 1; 1 0]\n",
       " [2 1; 1 1]\n",
       " [3 2; 2 1]\n",
       " [5 3; 3 2]\n",
       " [8 5; 5 3]\n",
       " [13 8; 8 5]\n",
       " [21 13; 13 8]\n",
       " [34 21; 21 13]\n",
       " [55 34; 34 21]\n",
       " [89 55; 55 34]"
      ]
     },
     "execution_count": 30,
     "metadata": {},
     "output_type": "execute_result"
    }
   ],
   "source": [
    "map(1:10) do i\n",
    "    A^i\n",
    "end\n"
   ]
  },
  {
   "cell_type": "code",
   "execution_count": 33,
   "id": "7ba89bc5-ee15-4d17-940c-5df4b8756a9f",
   "metadata": {},
   "outputs": [
    {
     "data": {
      "text/plain": [
       "2-element Vector{Int64}:\n",
       " 13\n",
       "  8"
      ]
     },
     "execution_count": 33,
     "metadata": {},
     "output_type": "execute_result"
    }
   ],
   "source": [
    "(A^6)[:,1]"
   ]
  },
  {
   "cell_type": "code",
   "execution_count": 34,
   "id": "75638b88-ac84-41cb-9ff6-41584e6807b4",
   "metadata": {},
   "outputs": [
    {
     "data": {
      "text/plain": [
       "8"
      ]
     },
     "execution_count": 34,
     "metadata": {},
     "output_type": "execute_result"
    }
   ],
   "source": [
    "(A^6)[3]"
   ]
  },
  {
   "cell_type": "code",
   "execution_count": 35,
   "id": "a3bccb1d-a48a-4e25-8fe5-e5e3eb2988d0",
   "metadata": {},
   "outputs": [
    {
     "data": {
      "text/plain": [
       "f (generic function with 1 method)"
      ]
     },
     "execution_count": 35,
     "metadata": {},
     "output_type": "execute_result"
    }
   ],
   "source": [
    "function f(x)\n",
    "    return A^x\n",
    "end"
   ]
  },
  {
   "cell_type": "code",
   "execution_count": 36,
   "id": "1023ab2f-cc2e-4a01-b3e3-36e66c4d79bc",
   "metadata": {},
   "outputs": [
    {
     "data": {
      "text/plain": [
       "g (generic function with 1 method)"
      ]
     },
     "execution_count": 36,
     "metadata": {},
     "output_type": "execute_result"
    }
   ],
   "source": [
    "g(x) = A^x"
   ]
  },
  {
   "cell_type": "code",
   "execution_count": 37,
   "id": "5bcf9b41-fb98-4f6f-a222-6ea2d2dca3fd",
   "metadata": {},
   "outputs": [
    {
     "data": {
      "text/plain": [
       "false"
      ]
     },
     "execution_count": 37,
     "metadata": {},
     "output_type": "execute_result"
    }
   ],
   "source": [
    "g == f"
   ]
  },
  {
   "cell_type": "code",
   "execution_count": 38,
   "id": "90ee419f-dafa-404a-bb57-467185281250",
   "metadata": {},
   "outputs": [
    {
     "data": {
      "text/plain": [
       "10-element Vector{Matrix{Int64}}:\n",
       " [1 1; 1 0]\n",
       " [2 1; 1 1]\n",
       " [3 2; 2 1]\n",
       " [5 3; 3 2]\n",
       " [8 5; 5 3]\n",
       " [13 8; 8 5]\n",
       " [21 13; 13 8]\n",
       " [34 21; 21 13]\n",
       " [55 34; 34 21]\n",
       " [89 55; 55 34]"
      ]
     },
     "execution_count": 38,
     "metadata": {},
     "output_type": "execute_result"
    }
   ],
   "source": [
    "map(f, 1:10)"
   ]
  },
  {
   "cell_type": "code",
   "execution_count": 40,
   "id": "063ac7c6-d1a1-4f6f-88c9-07139915a138",
   "metadata": {},
   "outputs": [
    {
     "data": {
      "text/plain": [
       "(x = 1, y = 2)"
      ]
     },
     "execution_count": 40,
     "metadata": {},
     "output_type": "execute_result"
    }
   ],
   "source": [
    "pₜ = (x=1, y=2)"
   ]
  },
  {
   "cell_type": "code",
   "execution_count": 41,
   "id": "be45903e-4711-4cc3-8cfc-a0a7ca4dc9b0",
   "metadata": {},
   "outputs": [
    {
     "data": {
      "text/plain": [
       "NamedTuple{(:x, :y), Tuple{Int64, Int64}}"
      ]
     },
     "execution_count": 41,
     "metadata": {},
     "output_type": "execute_result"
    }
   ],
   "source": [
    "typeof(pₜ)"
   ]
  },
  {
   "cell_type": "code",
   "execution_count": 42,
   "id": "079e9956-8915-4d3b-a3bd-d317ab0aa2cd",
   "metadata": {},
   "outputs": [
    {
     "data": {
      "text/plain": [
       "true"
      ]
     },
     "execution_count": 42,
     "metadata": {},
     "output_type": "execute_result"
    }
   ],
   "source": [
    "pₜ[1] == pₜ.x"
   ]
  },
  {
   "cell_type": "code",
   "execution_count": null,
   "id": "ce78dcbd-c452-4782-a9ea-8c617f9855ae",
   "metadata": {},
   "outputs": [],
   "source": []
  }
 ],
 "metadata": {
  "kernelspec": {
   "display_name": "Julia 1.6.2",
   "language": "julia",
   "name": "julia-1.6"
  },
  "language_info": {
   "file_extension": ".jl",
   "mimetype": "application/julia",
   "name": "julia",
   "version": "1.6.2"
  }
 },
 "nbformat": 4,
 "nbformat_minor": 5
}
