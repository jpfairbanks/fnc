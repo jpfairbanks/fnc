{
 "cells": [
  {
   "cell_type": "markdown",
   "metadata": {},
   "source": [
    "# Conditioning is Relative, Relative Error\n",
    "\n",
    "Define $\\Delta x= fl(x)-x$\n",
    "\n",
    "Absolute Error: $f(x+\\Delta x) - f(x)$\n",
    "\n",
    "Relative Error: $\\frac{\\text{Abs. Error}}{f(x)}$\n",
    "\n",
    "Absolute Roundoff: $\\Delta x$\n",
    "\n",
    "Relative Roundoff: $\\frac{\\text{Abs. Roundoff}}{x}$\n",
    "\n",
    "Relative Error divided by Relative Roundoff: \n",
    "\n",
    "$$\\frac{\\frac{f(x+\\Delta x)-f(x)}{f(x)}}{\\frac{\\Delta x}{x}}$$"
   ]
  },
  {
   "cell_type": "markdown",
   "metadata": {},
   "source": [
    "Let's simulate this condition number calculation. We will use `Float64` as exact arithmetic and simulate floating point numbers with `Float32` \n",
    "\n",
    "Imagine that `fl(x) = Float32(x::Float64)`"
   ]
  },
  {
   "cell_type": "code",
   "execution_count": 10,
   "metadata": {},
   "outputs": [
    {
     "data": {
      "text/plain": [
       "-2.3841857821338408e-8"
      ]
     },
     "execution_count": 10,
     "metadata": {},
     "output_type": "execute_result"
    }
   ],
   "source": [
    "Float32(1.4) - 1.4"
   ]
  },
  {
   "cell_type": "code",
   "execution_count": 11,
   "metadata": {},
   "outputs": [
    {
     "data": {
      "text/plain": [
       "1.1920929f-7"
      ]
     },
     "execution_count": 11,
     "metadata": {},
     "output_type": "execute_result"
    }
   ],
   "source": [
    "eps(Float32)"
   ]
  },
  {
   "cell_type": "code",
   "execution_count": 12,
   "metadata": {},
   "outputs": [
    {
     "data": {
      "text/plain": [
       "0.0f0"
      ]
     },
     "execution_count": 12,
     "metadata": {},
     "output_type": "execute_result"
    }
   ],
   "source": [
    "Float32(1.4) - Float32(1.4)"
   ]
  },
  {
   "cell_type": "code",
   "execution_count": 13,
   "metadata": {},
   "outputs": [
    {
     "data": {
      "text/plain": [
       "0.00039064884f0"
      ]
     },
     "execution_count": 13,
     "metadata": {},
     "output_type": "execute_result"
    }
   ],
   "source": [
    "Float16(1.4) - Float32(1.4)"
   ]
  },
  {
   "cell_type": "code",
   "execution_count": 14,
   "metadata": {},
   "outputs": [
    {
     "data": {
      "text/plain": [
       "relroundoff (generic function with 1 method)"
      ]
     },
     "execution_count": 14,
     "metadata": {},
     "output_type": "execute_result"
    }
   ],
   "source": [
    "relerr(f, x, Δx) = abs(f(x+Δx) - f(x)) / abs(f(x))\n",
    "roundoff(T::Type, x) = T(x) - x\n",
    "relroundoff(T::Type, x) = abs(roundoff(T, x)) / abs(x)"
   ]
  },
  {
   "cell_type": "code",
   "execution_count": 15,
   "metadata": {},
   "outputs": [
    {
     "data": {
      "text/plain": [
       "0.0"
      ]
     },
     "execution_count": 15,
     "metadata": {},
     "output_type": "execute_result"
    }
   ],
   "source": [
    "relerr(x -> x+1, 1, eps())"
   ]
  },
  {
   "cell_type": "code",
   "execution_count": 16,
   "metadata": {},
   "outputs": [
    {
     "data": {
      "text/plain": [
       "0.0"
      ]
     },
     "execution_count": 16,
     "metadata": {},
     "output_type": "execute_result"
    }
   ],
   "source": [
    "relerr(x -> x-1, 2, eps())"
   ]
  },
  {
   "cell_type": "code",
   "execution_count": 17,
   "metadata": {},
   "outputs": [
    {
     "data": {
      "text/plain": [
       "1.7029898443813148e-8"
      ]
     },
     "execution_count": 17,
     "metadata": {},
     "output_type": "execute_result"
    }
   ],
   "source": [
    "relroundoff(Float32, 1.4)"
   ]
  },
  {
   "cell_type": "code",
   "execution_count": 18,
   "metadata": {},
   "outputs": [
    {
     "data": {
      "text/plain": [
       "0.0002790178571429206"
      ]
     },
     "execution_count": 18,
     "metadata": {},
     "output_type": "execute_result"
    }
   ],
   "source": [
    "relroundoff(Float16, 1.4)"
   ]
  },
  {
   "cell_type": "code",
   "execution_count": 19,
   "metadata": {},
   "outputs": [
    {
     "data": {
      "text/plain": [
       "-2.3841857821338408e-8"
      ]
     },
     "execution_count": 19,
     "metadata": {},
     "output_type": "execute_result"
    }
   ],
   "source": [
    "roundoff(Float32, 1.4)"
   ]
  },
  {
   "cell_type": "code",
   "execution_count": 20,
   "metadata": {},
   "outputs": [
    {
     "data": {
      "text/plain": [
       "0.0"
      ]
     },
     "execution_count": 20,
     "metadata": {},
     "output_type": "execute_result"
    }
   ],
   "source": [
    "relerr(x->x+1, 1, roundoff(Float32, 1.0))\n",
    "# there is no relative error here because 1.0 is exact in all Float types"
   ]
  },
  {
   "cell_type": "code",
   "execution_count": 21,
   "metadata": {},
   "outputs": [
    {
     "data": {
      "text/plain": [
       "0.0"
      ]
     },
     "execution_count": 21,
     "metadata": {},
     "output_type": "execute_result"
    }
   ],
   "source": [
    "relerr(x->x+1, 1/2, roundoff(Float32, 1/2))\n",
    "# same for any 1/2^d"
   ]
  },
  {
   "cell_type": "code",
   "execution_count": 22,
   "metadata": {},
   "outputs": [
    {
     "data": {
      "text/plain": [
       "1.5283242857401644e-9"
      ]
     },
     "execution_count": 22,
     "metadata": {},
     "output_type": "execute_result"
    }
   ],
   "source": [
    "relerr(x->x+1, 0.17, roundoff(Float32, 0.17))\n"
   ]
  },
  {
   "cell_type": "code",
   "execution_count": 23,
   "metadata": {},
   "outputs": [
    {
     "data": {
      "text/plain": [
       "2.154384702763482e-9"
      ]
     },
     "execution_count": 23,
     "metadata": {},
     "output_type": "execute_result"
    }
   ],
   "source": [
    "relerr(x->x+1, -0.17, roundoff(Float32, -0.17))\n"
   ]
  },
  {
   "cell_type": "code",
   "execution_count": 24,
   "metadata": {},
   "outputs": [
    {
     "data": {
      "text/plain": [
       "2.154384702763482e-9"
      ]
     },
     "execution_count": 24,
     "metadata": {},
     "output_type": "execute_result"
    }
   ],
   "source": [
    "relerr(x->x+1, -0.17, roundoff(Float32, -0.17))\n"
   ]
  },
  {
   "cell_type": "code",
   "execution_count": 62,
   "metadata": {},
   "outputs": [],
   "source": [
    "using PrettyTables"
   ]
  },
  {
   "cell_type": "code",
   "execution_count": 103,
   "metadata": {},
   "outputs": [
    {
     "name": "stdout",
     "output_type": "stream",
     "text": [
      "┌─────────┬─────────────┬─────────────┬─────────────┬───────────┐\n",
      "│\u001b[1m       x \u001b[0m│\u001b[1m          fx \u001b[0m│\u001b[1m          fx̃ \u001b[0m│\u001b[1m   rel. err. \u001b[0m│\u001b[1m         κ̂ \u001b[0m│\n",
      "│\u001b[90m Float64 \u001b[0m│\u001b[90m     Float64 \u001b[0m│\u001b[90m     Float64 \u001b[0m│\u001b[90m     Float64 \u001b[0m│\u001b[90m   Float64 \u001b[0m│\n",
      "├─────────┼─────────────┼─────────────┼─────────────┼───────────┤\n",
      "│ 1.33333 │    0.333333 │    0.333333 │  1.19209e-7 │       4.0 │\n",
      "│ 1.11111 │    0.111111 │    0.111111 │  4.76837e-7 │      10.0 │\n",
      "│ 1.03704 │    0.037037 │    0.037037 │  5.96046e-7 │      28.0 │\n",
      "│ 1.01235 │   0.0123457 │   0.0123457 │  5.96046e-7 │      82.0 │\n",
      "│ 1.00412 │  0.00411523 │  0.00411522 │  5.96046e-7 │     244.0 │\n",
      "│ 1.00137 │  0.00137174 │  0.00137174 │  5.96046e-7 │     730.0 │\n",
      "│ 1.00046 │ 0.000457247 │ 0.000457287 │  8.63075e-5 │    2188.0 │\n",
      "│ 1.00015 │ 0.000152416 │ 0.000152469 │ 0.000347018 │    6562.0 │\n",
      "│ 1.00005 │  5.08053e-5 │  5.07832e-5 │ 0.000435114 │   19684.0 │\n",
      "│ 1.00002 │  1.69351e-5 │  1.69277e-5 │ 0.000435114 │   59050.0 │\n",
      "│ 1.00001 │  5.64503e-6 │  5.60284e-6 │   0.0074743 │  177148.0 │\n",
      "│     1.0 │  1.88168e-6 │  1.90735e-6 │   0.0136433 │  531442.0 │\n",
      "│     1.0 │  6.27225e-7 │  5.96046e-7 │   0.0497094 │ 1.59432e6 │\n",
      "│     1.0 │  2.09075e-7 │  2.38419e-7 │    0.140349 │ 4.78297e6 │\n",
      "│     1.0 │  6.96917e-8 │  1.19209e-7 │    0.710523 │ 1.43489e7 │\n",
      "│     1.0 │  2.32306e-8 │         0.0 │         1.0 │ 4.30467e7 │\n",
      "│     1.0 │  7.74352e-9 │         0.0 │         1.0 │  1.2914e8 │\n",
      "│     1.0 │  2.58117e-9 │         0.0 │         1.0 │  3.8742e8 │\n",
      "│     1.0 │ 8.60392e-10 │         0.0 │         1.0 │ 1.16226e9 │\n",
      "│     1.0 │ 2.86797e-10 │         0.0 │         1.0 │ 3.48678e9 │\n",
      "└─────────┴─────────────┴─────────────┴─────────────┴───────────┘\n"
     ]
    }
   ],
   "source": [
    "pretty_table(\n",
    "map(xs) do x\n",
    "    fx = x - 1\n",
    "    fx̃ = (x + roundoff(Float32, x)) - 1\n",
    "    err = relerr(x->x-1, x, roundoff(Float32, x))\n",
    "    cond = err/relroundoff(Float32, x)\n",
    "    return (x=x, fx=fx, fx̃=fx̃, var\"rel. err.\"=err, κ̂=cond)\n",
    "    end,\n",
    ")"
   ]
  },
  {
   "cell_type": "code",
   "execution_count": 61,
   "metadata": {},
   "outputs": [
    {
     "name": "stdout",
     "output_type": "stream",
     "text": [
      "x\t\t\tfx\t\t\tfx̃\t\t\t rel. error\t\t\t est. cond\n",
      "========================================================================================================================\n",
      "1.3333333333333333\t 0.33333333333333326\t 0.3333333730697632\t 1.1920928977282588e-7\t4.000000000000001\n",
      "1.1111111111111112\t 0.11111111111111116\t 0.11111116409301758\t 4.768371577590356e-7\t9.999999999999996\n",
      "1.037037037037037\t 0.03703703703703698\t 0.037037014961242676\t 5.96046446199595e-7\t28.000000000000043\n",
      "1.0123456790123457\t 0.012345679012345734\t 0.012345671653747559\t 5.960464521947957e-7\t81.99999999999964\n",
      "1.0041152263374487\t 0.004115226337448652\t 0.0041152238845825195\t 5.96046470180398e-7\t243.99999999999454\n",
      "1.0013717421124828\t 0.00137174211248281\t 0.0013717412948608398\t 5.960464162235911e-7\t730.000000000023\n",
      "1.0004572473708275\t 0.0004572473708275293\t 0.0004572868347167969\t 8.630752582818317e-5\t2188.0000000004234\n",
      "1.000152415790276\t 0.00015241579027591712\t 0.00015246868133544922\t 0.0003470182415900121\t6561.999999998082\n",
      "1.0000508052634254\t 5.080526342537972e-5\t 5.078315734863281e-5\t 0.00043511390860863586\t19683.999999965574\n",
      "1.0000169350878085\t 1.6935087808533922e-5\t 1.6927719116210938e-5\t 0.0004351139129772382\t59049.99999963865\n",
      "1.0000056450292696\t 5.645029269585322e-6\t 5.602836608886719e-6\t 0.007474303264631756\t177147.99999659328\n",
      "1.0000018816764231\t 1.8816764231210925e-6\t 1.9073486328125e-6\t 0.013643264790885564\t531442.0000106838\n",
      "1.0000006272254744\t 6.272254744477124e-7\t 5.960464477539062e-7\t 0.0497094393706825\t1.5943239998439155e6\n",
      "1.000000209075158\t 2.090751580752226e-7\t 2.384185791015625e-7\t 0.14034867315887678\t4.7829700012249695e6\n",
      "1.0000000696917193\t 6.969171928439266e-8\t 1.1920928955078125e-7\t 0.7105230115549461\t1.4348908018913914e7\n",
      "1.000000023230573\t 2.3230573020782685e-8\t 0.0\t 1.0\t4.3046722193892784e7\n",
      "1.0000000077435243\t 7.743524266246027e-9\t 0.0\t 1.0\t1.2914016581603777e8\n",
      "1.0000000025811748\t 2.5811748294302106e-9\t 0.0\t 1.0\t3.874204843388787e8\n",
      "1.0000000008603915\t 8.603915357952019e-10\t 0.0\t 1.0\t1.1622615509997537e9\n",
      "1.0000000002867973\t 2.8679725261326894e-10\t 0.0\t 1.0\t3.486783751151357e9\n"
     ]
    }
   ],
   "source": [
    "xs = [(3^n+1)/3^n for n in 1:20]\n",
    "println(\"x\\t\\t\\tfx\\t\\t\\tfx̃\\t\\t\\t rel. error\\t\\t\\t est. cond\")\n",
    "println(\"=\"^120)\n",
    "for x in xs\n",
    "    fx = x - 1\n",
    "    fx̃ = (x + roundoff(Float32, x)) - 1\n",
    "    err= relerr(x->x-1, x, roundoff(Float32, x))\n",
    "    cond = err/relroundoff(Float32, x)\n",
    "    println(\"$x\\t $fx\\t $fx̃\\t $err\\t$cond\")\n",
    "end"
   ]
  },
  {
   "cell_type": "markdown",
   "metadata": {},
   "source": [
    "Looking at table of output helps you debug. You can notice weird things like how our relative error just jumps to 1.0 and stays there. Let's dive in!"
   ]
  },
  {
   "cell_type": "code",
   "execution_count": 76,
   "metadata": {},
   "outputs": [
    {
     "name": "stdout",
     "output_type": "stream",
     "text": [
      "x\t\t\trel. error\n",
      "============================================================\n",
      "┌─────────┬─────────────┐\n",
      "│\u001b[1m       x \u001b[0m│\u001b[1m  rel. error \u001b[0m│\n",
      "│\u001b[90m Float64 \u001b[0m│\u001b[90m     Float64 \u001b[0m│\n",
      "├─────────┼─────────────┤\n",
      "│ 1.33333 │  1.19209e-7 │\n",
      "│ 1.11111 │  4.76837e-7 │\n",
      "│ 1.03704 │  5.96046e-7 │\n",
      "│ 1.01235 │  5.96046e-7 │\n",
      "│ 1.00412 │  5.96046e-7 │\n",
      "│ 1.00137 │  5.96046e-7 │\n",
      "│ 1.00046 │  8.63075e-5 │\n",
      "│ 1.00015 │ 0.000347018 │\n",
      "│ 1.00005 │ 0.000435114 │\n",
      "│ 1.00002 │ 0.000435114 │\n",
      "│ 1.00001 │   0.0074743 │\n",
      "│     1.0 │   0.0136433 │\n",
      "│     1.0 │   0.0497094 │\n",
      "│     1.0 │    0.140349 │\n",
      "│     1.0 │    0.710523 │\n",
      "│     1.0 │         1.0 │\n",
      "│     1.0 │         1.0 │\n",
      "│     1.0 │         1.0 │\n",
      "│     1.0 │         1.0 │\n",
      "│     1.0 │         1.0 │\n",
      "└─────────┴─────────────┘\n"
     ]
    }
   ],
   "source": [
    "println(\"x\\t\\t\\trel. error\")\n",
    "println(\"=\"^60)\n",
    "pretty_table(map(xs) do x\n",
    "    err = relerr(x->x-1, x, roundoff(Float32, x))\n",
    "    return (x=x, var\"rel. error\"=err)\n",
    "    end\n",
    ")"
   ]
  },
  {
   "cell_type": "markdown",
   "metadata": {},
   "source": [
    "Our relative error is growing smoothing until it suddenly jumps to 1. What happened?"
   ]
  },
  {
   "cell_type": "markdown",
   "metadata": {},
   "source": [
    "When $\\Delta$ drops below `eps(Float32)/2`, our $\\tilde{x}$ starts rounding to 1 in 32 bits."
   ]
  },
  {
   "cell_type": "code",
   "execution_count": 29,
   "metadata": {},
   "outputs": [
    {
     "data": {
      "text/plain": [
       "5.9604645f-8"
      ]
     },
     "execution_count": 29,
     "metadata": {},
     "output_type": "execute_result"
    }
   ],
   "source": [
    "eps(Float32)/2"
   ]
  },
  {
   "cell_type": "code",
   "execution_count": 51,
   "metadata": {},
   "outputs": [
    {
     "name": "stdout",
     "output_type": "stream",
     "text": [
      "x\t\t\t Δx\t\t\t Float32(x)\n",
      "======================================================================\n",
      "1.3333333333333333\t 0.33333333333333326\t 1.3333334\n",
      "1.1111111111111112\t 0.11111111111111116\t 1.1111112\n",
      "1.037037037037037\t 0.03703703703703698\t 1.037037\n",
      "1.0123456790123457\t 0.012345679012345734\t 1.0123457\n",
      "1.0041152263374487\t 0.004115226337448652\t 1.0041152\n",
      "1.0013717421124828\t 0.00137174211248281\t 1.0013717\n",
      "1.0004572473708275\t 0.0004572473708275293\t 1.0004573\n",
      "1.000152415790276\t 0.00015241579027591712\t 1.0001525\n",
      "1.0000508052634254\t 5.080526342537972e-5\t 1.0000508\n",
      "1.0000169350878085\t 1.6935087808533922e-5\t 1.0000169\n",
      "1.0000056450292696\t 5.645029269585322e-6\t 1.0000056\n",
      "1.0000018816764231\t 1.8816764231210925e-6\t 1.0000019\n",
      "1.0000006272254744\t 6.272254744477124e-7\t 1.0000006\n",
      "1.000000209075158\t 2.090751580752226e-7\t 1.0000002\n",
      "1.0000000696917193\t 6.969171928439266e-8\t 1.0000001\n",
      "1.000000023230573\t 2.3230573020782685e-8\t 1.0\t\t #  Δx < ϵₘ/2 !  \n",
      "1.0000000077435243\t 7.743524266246027e-9\t 1.0\t\t #  Δx < ϵₘ/2 !  \n",
      "1.0000000025811748\t 2.5811748294302106e-9\t 1.0\t\t #  Δx < ϵₘ/2 !  \n",
      "1.0000000008603915\t 8.603915357952019e-10\t 1.0\t\t #  Δx < ϵₘ/2 !  \n",
      "1.0000000002867973\t 2.8679725261326894e-10\t 1.0\t\t #  Δx < ϵₘ/2 !  "
     ]
    }
   ],
   "source": [
    "println(\"x\\t\\t\\t Δx\\t\\t\\t Float32(x)\")\n",
    "print(\"=\"^70)\n",
    "for xᵢ in xs\n",
    "    print(\"\\n$xᵢ\\t $(xᵢ-1)\\t $(Float32(xᵢ))\")\n",
    "    if xᵢ - 1 < eps(Float32)/2\n",
    "        print(\"\\t\\t #\", \"  Δx < ϵₘ/2 !  \")\n",
    "    end\n",
    "end"
   ]
  },
  {
   "cell_type": "code",
   "execution_count": 98,
   "metadata": {},
   "outputs": [
    {
     "name": "stdout",
     "output_type": "stream",
     "text": [
      "┌─────────┬─────────────┬────────────┐\n",
      "│\u001b[1m       x \u001b[0m│\u001b[1m          Δx \u001b[0m│\u001b[1m Float32(x) \u001b[0m│\n",
      "│\u001b[90m Float64 \u001b[0m│\u001b[90m     Float64 \u001b[0m│\u001b[90m    Float32 \u001b[0m│\n",
      "├─────────┼─────────────┼────────────┤\n",
      "│ 1.33333 │    0.333333 │    1.33333 │\n",
      "│ 1.11111 │    0.111111 │    1.11111 │\n",
      "│ 1.03704 │    0.037037 │    1.03704 │\n",
      "│ 1.01235 │   0.0123457 │    1.01235 │\n",
      "│ 1.00412 │  0.00411523 │    1.00412 │\n",
      "│ 1.00137 │  0.00137174 │    1.00137 │\n",
      "│ 1.00046 │ 0.000457247 │    1.00046 │\n",
      "│ 1.00015 │ 0.000152416 │    1.00015 │\n",
      "│ 1.00005 │  5.08053e-5 │    1.00005 │\n",
      "│ 1.00002 │  1.69351e-5 │    1.00002 │\n",
      "│ 1.00001 │  5.64503e-6 │    1.00001 │\n",
      "│     1.0 │  1.88168e-6 │        1.0 │\n",
      "│     1.0 │  6.27225e-7 │        1.0 │\n",
      "│     1.0 │  2.09075e-7 │        1.0 │\n",
      "│     1.0 │  6.96917e-8 │        1.0 │\n",
      "│\u001b[31;1m     1.0 \u001b[0m│\u001b[31;1m  2.32306e-8 \u001b[0m│\u001b[31;1m        1.0 \u001b[0m│\n",
      "│\u001b[31;1m     1.0 \u001b[0m│\u001b[31;1m  7.74352e-9 \u001b[0m│\u001b[31;1m        1.0 \u001b[0m│\n",
      "│\u001b[31;1m     1.0 \u001b[0m│\u001b[31;1m  2.58117e-9 \u001b[0m│\u001b[31;1m        1.0 \u001b[0m│\n",
      "│\u001b[31;1m     1.0 \u001b[0m│\u001b[31;1m 8.60392e-10 \u001b[0m│\u001b[31;1m        1.0 \u001b[0m│\n",
      "│\u001b[31;1m     1.0 \u001b[0m│\u001b[31;1m 2.86797e-10 \u001b[0m│\u001b[31;1m        1.0 \u001b[0m│\n",
      "└─────────┴─────────────┴────────────┘\n"
     ]
    }
   ],
   "source": [
    "pretty_table(map(xs) do x return (x=x, Δx = x-1, var\"Float32(x)\"=Float32(x)) end, \n",
    "    highlighters= Highlighter((row,i,j) -> row[i].Δx < eps(Float32)/2, crayon\"bold red\"))"
   ]
  },
  {
   "cell_type": "code",
   "execution_count": 54,
   "metadata": {},
   "outputs": [
    {
     "name": "stdout",
     "output_type": "stream",
     "text": [
      "x\t\t\tfx\t\t\tfx̃\t\t\t rel. error\n",
      "====================================================================================================\n",
      "1.3333333333333333\t 2.6666666666666665\t 2.6666667461395264\t 2.9802322443206464e-8\n",
      "1.1111111111111112\t 2.2222222222222223\t 2.222222328186035\t 4.768371577590358e-8\n",
      "1.037037037037037\t 2.074074074074074\t 2.0740740299224854\t 2.128737307855693e-8\n",
      "1.0123456790123457\t 2.0246913580246915\t 2.024691343307495\t 7.268859173107296e-9\n",
      "1.0041152263374487\t 2.0082304526748973\t 2.008230447769165\t 2.442813402378735e-9\n",
      "1.0013717421124828\t 2.0027434842249656\t 2.0027434825897217\t 8.165019400322909e-10\n",
      "1.0004572473708275\t 2.000914494741655\t 2.0009145736694336\t 3.944585275510351e-8\n",
      "1.000152415790276\t 2.000304831580552\t 2.000304937362671\t 5.2882999327966096e-8\n",
      "1.0000508052634254\t 2.0001016105268508\t 2.0001015663146973\t 2.2104953698912663e-8\n",
      "1.0000169350878085\t 2.000033870175617\t 2.0000338554382324\t 7.368567535646077e-9\n",
      "1.0000056450292696\t 2.000011290058539\t 2.0000112056732178\t 4.21924225211433e-8\n",
      "1.0000018816764231\t 2.0000037633528462\t 2.0000038146972656\t 2.567216138470668e-8\n",
      "1.0000006272254744\t 2.000001254450949\t 2.0000011920928955\t 3.117900713753858e-8\n",
      "1.000000209075158\t 2.000000418150316\t 2.000000476837158\t 2.9343414891360805e-8\n",
      "1.0000000696917193\t 2.0000001393834386\t 2.000000238418579\t 4.951756681542422e-8\n",
      "1.000000023230573\t 2.000000046461146\t 2.0\t 2.3230572481123175e-8\n",
      "1.0000000077435243\t 2.0000000154870485\t 2.0\t 7.74352420628386e-9\n",
      "1.0000000025811748\t 2.0000000051623497\t 2.0\t 2.5811748227677472e-9\n",
      "1.0000000008603915\t 2.000000001720783\t 2.0\t 8.603915350549283e-10\n",
      "1.0000000002867973\t 2.0000000005735945\t 2.0\t 2.8679725253101627e-10\n"
     ]
    }
   ],
   "source": [
    "println(\"x\\t\\t\\tfx\\t\\t\\tfx̃\\t\\t\\t rel. error\")\n",
    "println(\"=\"^100)\n",
    "for xᵢ in xs\n",
    "    x  = xᵢ\n",
    "    fx = 2xᵢ\n",
    "    fx̃ = 2(xᵢ + roundoff(Float32, xᵢ))\n",
    "    err= relerr(x->2x, xᵢ, roundoff(Float32, xᵢ))\n",
    "    println(\"$x\\t $fx\\t $fx̃\\t $err\")\n",
    "end"
   ]
  },
  {
   "cell_type": "code",
   "execution_count": 106,
   "metadata": {},
   "outputs": [
    {
     "name": "stdout",
     "output_type": "stream",
     "text": [
      "┌─────────┬──────────────┬─────────┬─────────┬─────────────┬─────────┐\n",
      "│\u001b[1m       x \u001b[0m│\u001b[1m     roundoff \u001b[0m│\u001b[1m      fx \u001b[0m│\u001b[1m      fx̃ \u001b[0m│\u001b[1m   rel. err. \u001b[0m│\u001b[1m       κ̂ \u001b[0m│\n",
      "│\u001b[90m Float64 \u001b[0m│\u001b[90m      Float64 \u001b[0m│\u001b[90m Float64 \u001b[0m│\u001b[90m Float64 \u001b[0m│\u001b[90m     Float64 \u001b[0m│\u001b[90m Float64 \u001b[0m│\n",
      "├─────────┼──────────────┼─────────┼─────────┼─────────────┼─────────┤\n",
      "│ 1.33333 │   3.97364e-8 │ 2.66667 │ 2.66667 │  2.98023e-8 │     1.0 │\n",
      "│ 1.11111 │   5.29819e-8 │ 2.22222 │ 2.22222 │  4.76837e-8 │     1.0 │\n",
      "│ 1.03704 │  -2.20758e-8 │ 2.07407 │ 2.07407 │  2.12874e-8 │     1.0 │\n",
      "│ 1.01235 │   -7.3586e-9 │ 2.02469 │ 2.02469 │  7.26886e-9 │     1.0 │\n",
      "│ 1.00412 │  -2.45287e-9 │ 2.00823 │ 2.00823 │  2.44281e-9 │     1.0 │\n",
      "│ 1.00137 │ -8.17622e-10 │ 2.00274 │ 2.00274 │ 8.16502e-10 │     1.0 │\n",
      "│ 1.00046 │   3.94639e-8 │ 2.00091 │ 2.00091 │  3.94459e-8 │     1.0 │\n",
      "│ 1.00015 │   5.28911e-8 │  2.0003 │  2.0003 │   5.2883e-8 │     1.0 │\n",
      "│ 1.00005 │  -2.21061e-8 │  2.0001 │  2.0001 │   2.2105e-8 │     1.0 │\n",
      "│ 1.00002 │  -7.36869e-9 │ 2.00003 │ 2.00003 │  7.36857e-9 │     1.0 │\n",
      "│ 1.00001 │  -4.21927e-8 │ 2.00001 │ 2.00001 │  4.21924e-8 │     1.0 │\n",
      "│     1.0 │   2.56722e-8 │     2.0 │     2.0 │  2.56722e-8 │     1.0 │\n",
      "│     1.0 │   -3.1179e-8 │     2.0 │     2.0 │   3.1179e-8 │     1.0 │\n",
      "│     1.0 │   2.93434e-8 │     2.0 │     2.0 │  2.93434e-8 │     1.0 │\n",
      "│     1.0 │   4.95176e-8 │     2.0 │     2.0 │  4.95176e-8 │     1.0 │\n",
      "│     1.0 │  -2.32306e-8 │     2.0 │     2.0 │  2.32306e-8 │     1.0 │\n",
      "│     1.0 │  -7.74352e-9 │     2.0 │     2.0 │  7.74352e-9 │     1.0 │\n",
      "│     1.0 │  -2.58117e-9 │     2.0 │     2.0 │  2.58117e-9 │     1.0 │\n",
      "│     1.0 │ -8.60392e-10 │     2.0 │     2.0 │ 8.60392e-10 │     1.0 │\n",
      "│     1.0 │ -2.86797e-10 │     2.0 │     2.0 │ 2.86797e-10 │     1.0 │\n",
      "└─────────┴──────────────┴─────────┴─────────┴─────────────┴─────────┘\n"
     ]
    }
   ],
   "source": [
    "pretty_table(\n",
    "map(xs) do x\n",
    "    fx = 2x\n",
    "    fx̃ = 2(x + roundoff(Float32, x))\n",
    "    err = relerr(x->2x, x, roundoff(Float32, x))\n",
    "    cond = err/relroundoff(Float32, x)\n",
    "    return (x=x, roundoff=roundoff(Float32, x), fx=fx, fx̃=fx̃, var\"rel. err.\"=err, κ̂=cond)\n",
    "    end,\n",
    ")"
   ]
  },
  {
   "cell_type": "code",
   "execution_count": null,
   "metadata": {},
   "outputs": [],
   "source": []
  }
 ],
 "metadata": {
  "kernelspec": {
   "display_name": "Julia 1.6.2",
   "language": "julia",
   "name": "julia-1.6"
  },
  "language_info": {
   "file_extension": ".jl",
   "mimetype": "application/julia",
   "name": "julia",
   "version": "1.6.2"
  }
 },
 "nbformat": 4,
 "nbformat_minor": 4
}
